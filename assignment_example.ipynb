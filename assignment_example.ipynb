{
 "cells": [
  {
   "cell_type": "code",
   "execution_count": 1,
   "id": "c7b1b50b",
   "metadata": {},
   "outputs": [],
   "source": [
    "import requests\n",
    "from pprint import pprint"
   ]
  },
  {
   "cell_type": "code",
   "execution_count": 2,
   "id": "fd9b69dc",
   "metadata": {},
   "outputs": [],
   "source": [
    "base_url = 'http://localhost:3012/api/v1/'"
   ]
  },
  {
   "cell_type": "markdown",
   "id": "5533488c",
   "metadata": {},
   "source": [
    "### Create an user and get his/her user_id"
   ]
  },
  {
   "cell_type": "code",
   "execution_count": 3,
   "id": "8dd02b1a",
   "metadata": {},
   "outputs": [
    {
     "name": "stdout",
     "output_type": "stream",
     "text": [
      "{'data': {}, 'message': 'user created successfully', 'status_code': 200}\n"
     ]
    }
   ],
   "source": [
    "phone = '+917838958076'\n",
    "response = requests.post(base_url+'user/', json={'name':'Test Name', 'phone':phone})\n",
    "pprint(response.json())"
   ]
  },
  {
   "cell_type": "code",
   "execution_count": 4,
   "id": "d217f850",
   "metadata": {},
   "outputs": [
    {
     "name": "stdout",
     "output_type": "stream",
     "text": [
      "{'data': {'id': '4308f6cd-3803-4474-aead-e3380a0ebdcc',\n",
      "          'name': 'Test Name',\n",
      "          'phone': '+917838958076'},\n",
      " 'message': 'results retrieved successfully',\n",
      " 'status_code': 200}\n"
     ]
    }
   ],
   "source": [
    "response = requests.get(base_url+'user/', params={'phone':phone})\n",
    "user_id = response.json()['data']['id']\n",
    "pprint(response.json())"
   ]
  },
  {
   "cell_type": "markdown",
   "id": "46b41c7a",
   "metadata": {},
   "source": [
    "### Create schemes in which customer would invest"
   ]
  },
  {
   "cell_type": "code",
   "execution_count": 7,
   "id": "8f5cebb1",
   "metadata": {},
   "outputs": [],
   "source": [
    "response = requests.post(base_url+'stashaway/schemes/', json={'name': 'High Risk Scheme', 'scheme_type': 'HIGH_RISK'})\n",
    "high_risk_scheme_id = response.json()['data']['id']\n",
    "\n",
    "\n",
    "response = requests.post(base_url+'stashaway/schemes/', json={'name': 'Retirement Scheme', 'scheme_type': 'RETIREMENT'})\n",
    "retirement_scheme_id = response.json()['data']['id']"
   ]
  },
  {
   "cell_type": "code",
   "execution_count": 8,
   "id": "b84bc0e7",
   "metadata": {},
   "outputs": [
    {
     "name": "stdout",
     "output_type": "stream",
     "text": [
      "[{'id': '1514ad0e-b386-4667-9c6e-937eb25fcd3b',\n",
      "  'name': 'High Risk Scheme',\n",
      "  'scheme_type': 'HIGH_RISK'},\n",
      " {'id': '359e1378-422d-4ce7-938c-11d7660ce086',\n",
      "  'name': 'Retirement Scheme',\n",
      "  'scheme_type': 'RETIREMENT'}]\n"
     ]
    }
   ],
   "source": [
    "# see all the schemes available on the platform\n",
    "\n",
    "response = requests.get(base_url+'stashaway/schemes/')\n",
    "pprint(response.json()['data'])"
   ]
  },
  {
   "cell_type": "markdown",
   "id": "b723557f",
   "metadata": {},
   "source": [
    "### Create Portfolios in the schemes for the customer"
   ]
  },
  {
   "cell_type": "code",
   "execution_count": 9,
   "id": "7909ce8e",
   "metadata": {},
   "outputs": [],
   "source": [
    "response = requests.post(base_url+'stashaway/portfolios/', json={'user': user_id, 'scheme_id': high_risk_scheme_id})\n",
    "high_risk_portfolio_id = response.json()['data']['id']\n",
    "\n",
    "response = requests.post(base_url+'stashaway/portfolios/', json={'user': user_id, 'scheme_id': retirement_scheme_id})\n",
    "retirement_portfolio_id = response.json()['data']['id']"
   ]
  },
  {
   "cell_type": "code",
   "execution_count": 10,
   "id": "95f596d5",
   "metadata": {},
   "outputs": [
    {
     "name": "stdout",
     "output_type": "stream",
     "text": [
      "[{'deposit_amount': None,\n",
      "  'id': '9f49c0a6-2a0c-4632-95f4-017f47c76ac1',\n",
      "  'scheme_id': '1514ad0e-b386-4667-9c6e-937eb25fcd3b'},\n",
      " {'deposit_amount': None,\n",
      "  'id': 'e3444ade-ca47-4ee6-9275-63fa61691e9b',\n",
      "  'scheme_id': '359e1378-422d-4ce7-938c-11d7660ce086'}]\n"
     ]
    }
   ],
   "source": [
    "# have a look at the portfolios of the customer, presently having NIL balance as no funds have been added\n",
    "\n",
    "response = requests.get(base_url+'stashaway/portfolios/', params={'user': user_id})\n",
    "pprint(response.json()['data'])"
   ]
  },
  {
   "cell_type": "markdown",
   "id": "18095f08",
   "metadata": {},
   "source": [
    "### Make a montly recurring schedule for Retirement Portfolio"
   ]
  },
  {
   "cell_type": "code",
   "execution_count": 11,
   "id": "270f1154",
   "metadata": {},
   "outputs": [],
   "source": [
    "day_of_month = 25 # add a schdule to get deposit reminder at 25th of every month\n",
    "response = requests.post(base_url+'stashaway/monthly-schedule/', json={'portfolio_id': retirement_portfolio_id, 'day_of_month': day_of_month})\n"
   ]
  },
  {
   "cell_type": "markdown",
   "id": "443d94a8",
   "metadata": {},
   "source": [
    "### Make the deposits as given in the example"
   ]
  },
  {
   "cell_type": "code",
   "execution_count": 17,
   "id": "a49b103d",
   "metadata": {},
   "outputs": [],
   "source": [
    "response = requests.post(\n",
    "    base_url+'stashaway/deposits/', json={'portfolio_id': high_risk_portfolio_id, 'amount': 10000, 'deposit_type':'LUMPSUM'}\n",
    ")\n",
    "response = requests.post(\n",
    "    base_url+'stashaway/deposits/', json={'portfolio_id': retirement_portfolio_id, 'amount': 500, 'deposit_type':'LUMPSUM'}\n",
    ")\n",
    "\n",
    "# make the monthly deposit\n",
    "response = requests.post(\n",
    "    base_url+'stashaway/deposits/', json={'portfolio_id': retirement_portfolio_id, 'amount': 100, 'deposit_type':'RECURRING'}\n",
    ")\n"
   ]
  },
  {
   "cell_type": "markdown",
   "id": "3f528f48",
   "metadata": {},
   "source": [
    "### Check the amounts in the customer portfolio again"
   ]
  },
  {
   "cell_type": "code",
   "execution_count": 20,
   "id": "a68ed6b6",
   "metadata": {},
   "outputs": [
    {
     "name": "stdout",
     "output_type": "stream",
     "text": [
      "[{'deposit_amount': 10000,\n",
      "  'id': '9f49c0a6-2a0c-4632-95f4-017f47c76ac1',\n",
      "  'scheme_id': '1514ad0e-b386-4667-9c6e-937eb25fcd3b'},\n",
      " {'deposit_amount': 600,\n",
      "  'id': 'e3444ade-ca47-4ee6-9275-63fa61691e9b',\n",
      "  'scheme_id': '359e1378-422d-4ce7-938c-11d7660ce086'}]\n"
     ]
    }
   ],
   "source": [
    "response = requests.get(base_url+'stashaway/portfolios/', params={'user': user_id})\n",
    "pprint(response.json()['data'])"
   ]
  }
 ],
 "metadata": {
  "kernelspec": {
   "display_name": "Python 3",
   "language": "python",
   "name": "python3"
  },
  "language_info": {
   "codemirror_mode": {
    "name": "ipython",
    "version": 3
   },
   "file_extension": ".py",
   "mimetype": "text/x-python",
   "name": "python",
   "nbconvert_exporter": "python",
   "pygments_lexer": "ipython3",
   "version": "3.9.5"
  }
 },
 "nbformat": 4,
 "nbformat_minor": 5
}
